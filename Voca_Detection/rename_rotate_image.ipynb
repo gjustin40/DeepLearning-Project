{
 "cells": [
  {
   "cell_type": "code",
   "execution_count": null,
   "metadata": {},
   "outputs": [],
   "source": []
  },
  {
   "cell_type": "code",
   "execution_count": 5,
   "metadata": {},
   "outputs": [],
   "source": [
    "from PIL import Image\n",
    "import glob\n",
    "\n",
    "image_path = '../data/voca_detection/'\n",
    "image_list = glob.glob(image_path + 'raw/*.jpg')\n",
    "\n",
    "for i, file_name in enumerate(image_list):\n",
    "    img = Image.open(file_name)\n",
    "    w, h = img.size\n",
    "    if w < h:\n",
    "        img = img.rotate(90, expand=True)\n",
    "        \n",
    "    img.save(image_path + './rename/voca{}.jpg'.format(i))"
   ]
  }
 ],
 "metadata": {
  "kernelspec": {
   "display_name": "Python 3",
   "language": "python",
   "name": "python3"
  },
  "language_info": {
   "codemirror_mode": {
    "name": "ipython",
    "version": 3
   },
   "file_extension": ".py",
   "mimetype": "text/x-python",
   "name": "python",
   "nbconvert_exporter": "python",
   "pygments_lexer": "ipython3",
   "version": "3.7.4"
  }
 },
 "nbformat": 4,
 "nbformat_minor": 2
}
